{
 "cells": [
  {
   "cell_type": "markdown",
   "metadata": {},
   "source": [
    "# Root Finding\n",
    "\n",
    "This notebook will cover the topics of root finding. Root finding can be described as a way of finding the numerical solution to the roots of a function. Mathematically, we seek the the values of x for a function such that $f(x) = 0$. We will deal with three root finding algorithms, and their implementations in Python. We will use the scientific libraries [Scipy](https://scipy.org/scipylib/index.html), [Numpy](https://numpy.org/), [Sympy](https://www.sympy.org/en/index.html) and [Matplotlib](https://matplotlib.org/) for help along the way.\n",
    "\n",
    "The three algorithms we will look at are:\n",
    "* Bisection method\n",
    "* Fixed-point iteration\n",
    "* Newton's method\n",
    "* Secant method\n"
   ]
  },
  {
   "cell_type": "markdown",
   "metadata": {},
   "source": [
    "#### Bisection Method"
   ]
  },
  {
   "cell_type": "markdown",
   "metadata": {},
   "source": [
    "The Bisection method of root finding works a continuous function $f(x)$ which is known to contain a root over an interval $[a,b]$.\n",
    "If a is a negative number, and b is a negative number, we know that there must exist an x value in between a and b for which $f(x)=0$ from the Intermediate Value Theorem. \n",
    "The Bisection method estimates the root to be at the midpoint of the interval, at some value \n",
    "<div style=\"text-align:center\">$c = \\frac{a+b}{2}$</div>\n",
    "It is very unlikely that c will be the exact root of the function, but we now know that the interval must be contained within either one of the new intervals $[a,c]$ and $[c,b]$. \n",
    "If $f(c)$ is negative, the function has not yet crossed the $x$-axis and thus the root is in the interval $[c,b]$\n",
    "On the other hand, if $f(c)$ is positive, the function has crossed the $x$-axis and the root is in $[a,c]$. "
   ]
  },
  {
   "cell_type": "code",
   "execution_count": null,
   "metadata": {},
   "outputs": [],
   "source": []
  }
 ],
 "metadata": {
  "kernelspec": {
   "display_name": "Python 3",
   "language": "python",
   "name": "python3"
  },
  "language_info": {
   "codemirror_mode": {
    "name": "ipython",
    "version": 3
   },
   "file_extension": ".py",
   "mimetype": "text/x-python",
   "name": "python",
   "nbconvert_exporter": "python",
   "pygments_lexer": "ipython3",
   "version": "3.7.3"
  }
 },
 "nbformat": 4,
 "nbformat_minor": 2
}
