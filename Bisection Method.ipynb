{
 "cells": [
  {
   "cell_type": "markdown",
   "metadata": {},
   "source": [
    "# Root Finding\n",
    "\n",
    "This notebook will cover the topics of root finding. Root finding can be described as a way of finding the numerical solution to the roots of a function. Mathematically, we seek the the values of x for a function such that $f(x) = 0$. We will deal with three root finding algorithms, and their implementations in Python. We will use the scientific libraries [Scipy](https://scipy.org/scipylib/index.html), [Numpy](https://numpy.org/), [Sympy](https://www.sympy.org/en/index.html) and [Matplotlib](https://matplotlib.org/) for help along the way.\n",
    "\n",
    "The three algorithms we will look at are:\n",
    "* Bisection method\n",
    "* Fixed-point iteration\n",
    "* Newton's method\n",
    "* Secant method\n"
   ]
  },
  {
   "cell_type": "markdown",
   "metadata": {},
   "source": [
    "#### Bisection Method"
   ]
  },
  {
   "cell_type": "markdown",
   "metadata": {},
   "source": [
    "The Bisection method of root finding works a continuous function $f(x)$ which is known to contain a root over an interval $[a,b]$.\n",
    "\n",
    "If a is a negative number, and b is a positive number, we know that there must exist an x value $a<x<b$ for which $f(x)=0$ from the Intermediate Value Theorem. \n",
    "The Bisection method estimates the root to be at the midpoint of the interval, at the value \n",
    "<div style=\"text-align:center\">$c = \\frac{a+b}{2}$</div>\n",
    "\n",
    "It is very unlikely that c will be the exact root of the function (if it is, then we are done!). But if it is not, we now know that the interval must be contained within either one of the new intervals $[a,c]$ and $[c,b]$, which are both half the size of the previous interval.  \n",
    "If $f(c)$ is the same sign as $f(a)$,the function has not yet crossed the $x$-axis and thus the root is in the interval $[c,b]$.\n",
    "On the other hand, if $f(c)$ has the opposite sign, the function has crossed the $x$-axis and the root is in $[a,c]$. \n",
    "\n",
    "\n",
    "This approach can be repeated on the new interval, and again on the resulting interval and so on. We can continue this until the interval is small enough to our liking, and we can estimate it's midpoint as the root. This approach can also be performed for a fixed number of iterations if preferred."
   ]
  },
  {
   "cell_type": "markdown",
   "metadata": {},
   "source": [
    "Let us look at an example, using Python to perform the calculations.  \n",
    "__Example:__ Find the root of the function $f(x) = x^2 -2$ over the interval $[0,2]$ using Bisection method.  \n",
    "\n",
    "First, let's define this function in Python. We will also store the interval as a list."
   ]
  },
  {
   "cell_type": "code",
   "execution_count": 2,
   "metadata": {},
   "outputs": [],
   "source": [
    "def f(x):\n",
    "    return x**2 - 2\n",
    "\n",
    "interval=[0,2]"
   ]
  },
  {
   "cell_type": "markdown",
   "metadata": {},
   "source": [
    "For convenience, we will also create a function to find the midpoint of the interval, and another function that can take the old interval and return the new interval which contains the root."
   ]
  },
  {
   "cell_type": "code",
   "execution_count": 3,
   "metadata": {},
   "outputs": [],
   "source": [
    "def midpoint(interval):\n",
    "    return (0.5)*(interval[0]+interval[1])\n",
    "\n",
    "def newinterval(interval):\n",
    "    mid = midpoint(interval)\n",
    "    small, large = interval[0],interval[1]\n",
    "    if (f(small)<0 and f(mid)<0) or (f(small)>0 and f(mid)>0):\n",
    "        #Function has the same sign at small and mid, thus they do not contain the root.\n",
    "        return [mid,large]\n",
    "    else:\n",
    "        #small and mid have the opposite signs, and contain the root.\n",
    "        return [small,mid]\n",
    "        "
   ]
  },
  {
   "cell_type": "markdown",
   "metadata": {},
   "source": [
    "Now, let us set up a loop to continue bisection until the interval is smaller than 0.001, and then print it's midpoint. "
   ]
  },
  {
   "cell_type": "code",
   "execution_count": 6,
   "metadata": {},
   "outputs": [
    {
     "name": "stdout",
     "output_type": "stream",
     "text": [
      "1.41455078125\n"
     ]
    }
   ],
   "source": [
    "size = abs(interval[1]-interval[0])\n",
    "while (size>=0.001):\n",
    "    interval = newinterval(interval)\n",
    "    size = abs(interval[1]-interval[0])\n",
    "print(midpoint(interval))"
   ]
  },
  {
   "cell_type": "markdown",
   "metadata": {},
   "source": [
    "From inspection, we expected the function to have a root at $\\sqrt{2}$. This gives us a percent error of $0.02385\\%$.  \n",
    "How long did Python take to complete this calculation? We can check using the IPython magic command `%%timeit`. It's documentation can be found [here](https://ipython.readthedocs.io/en/stable/interactive/magics.html)"
   ]
  },
  {
   "cell_type": "code",
   "execution_count": 10,
   "metadata": {},
   "outputs": [
    {
     "name": "stdout",
     "output_type": "stream",
     "text": [
      "11.7 µs ± 713 ns per loop (mean ± std. dev. of 7 runs, 100000 loops each)\n"
     ]
    }
   ],
   "source": [
    "%%timeit \n",
    "def f(x):\n",
    "    return x**2 - 2\n",
    "\n",
    "interval=[0,2]\n",
    "\n",
    "size = abs(interval[1]-interval[0])\n",
    "while (size>=0.001):\n",
    "    interval = newinterval(interval)\n",
    "    size = abs(interval[1]-interval[0])"
   ]
  },
  {
   "cell_type": "markdown",
   "metadata": {},
   "source": [
    "The Scipy library has a convenient function that can perform bisection method on a function. We just need to provide it our function, the starting and ending x value. You can read more about it [here](https://docs.scipy.org/doc/scipy-0.14.0/reference/generated/scipy.optimize.bisect.html).  \n",
    "Let's test it out."
   ]
  },
  {
   "cell_type": "code",
   "execution_count": 12,
   "metadata": {},
   "outputs": [
    {
     "name": "stdout",
     "output_type": "stream",
     "text": [
      "1.4142135623715149\n"
     ]
    }
   ],
   "source": [
    "import scipy.optimize\n",
    "root = scipy.optimize.bisect(f,0,2)\n",
    "print(root)"
   ]
  },
  {
   "cell_type": "markdown",
   "metadata": {},
   "source": [
    "This value is much closer to the actual value of $\\sqrt{2}$ since the bisect function returns a value where the root is within $1 \\times 10^{-12}$ of the calculated value. The bisect function is also more optimized than the code developed in this notebook."
   ]
  },
  {
   "cell_type": "markdown",
   "metadata": {},
   "source": [
    "Do note that the bisection method can only find a root which crosses the x-axis. A root such as the root of $x^2$ would not be calculated, since it only touches the axis, but does not cross it. For such a polynomial, one may use the roots function provided in the Numpy library. We must pass it the coefficients of our polynomial, and it will return a list of all the roots of the polynomial, real and complex."
   ]
  },
  {
   "cell_type": "code",
   "execution_count": 19,
   "metadata": {},
   "outputs": [
    {
     "name": "stdout",
     "output_type": "stream",
     "text": [
      "[0. 0.]\n"
     ]
    }
   ],
   "source": [
    "import numpy\n",
    "print(numpy.roots([2,0,0]))"
   ]
  }
 ],
 "metadata": {
  "kernelspec": {
   "display_name": "Python 3",
   "language": "python",
   "name": "python3"
  },
  "language_info": {
   "codemirror_mode": {
    "name": "ipython",
    "version": 3
   },
   "file_extension": ".py",
   "mimetype": "text/x-python",
   "name": "python",
   "nbconvert_exporter": "python",
   "pygments_lexer": "ipython3",
   "version": "3.7.3"
  }
 },
 "nbformat": 4,
 "nbformat_minor": 2
}
